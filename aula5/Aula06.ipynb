{
  "nbformat": 4,
  "nbformat_minor": 0,
  "metadata": {
    "colab": {
      "name": "Aula06.ipynb",
      "provenance": [],
      "collapsed_sections": []
    },
    "kernelspec": {
      "name": "python3",
      "display_name": "Python 3"
    }
  },
  "cells": [
    {
      "cell_type": "markdown",
      "metadata": {
        "id": "9q-zvPMWihGU",
        "colab_type": "text"
      },
      "source": [
        "**Objetos:**<br>\n",
        "\n",
        "\n",
        "São representações de entidades no programa:\n",
        "Pessoa, carrro, restaurante são entidades.\n",
        "\n",
        "As entidades se relacionam entre si e resolvem problemas no mundo real\n",
        "Pessoa dirige carro até o restaurante.\n",
        "\n",
        "Os objetos são criados no python pela classe (class).\n",
        "\n",
        "A ação do objeto é feito pelos métodos (def)\n",
        "Correr, andar, comer....\n",
        "\n",
        "O seu estado são guardados em atributos (variáveis)\n",
        "cansado = True, faminto = False, vivo = True\n",
        "\n",
        "Mas o que nos interessa é que...\n",
        "No python tudo é objeto.\n",
        "\n",
        "E os objetos são criados ao atribui-los a uma variável\n",
        "a= 10 (objeto do tipo inteiro)\n",
        "a = media(lista) (objeto do tipo função)\n",
        "a = Relatorio () (Objeto do tipo classe)"
      ]
    },
    {
      "cell_type": "code",
      "metadata": {
        "id": "CIa75hCBxqq0",
        "colab_type": "code",
        "colab": {}
      },
      "source": [
        ""
      ],
      "execution_count": null,
      "outputs": []
    },
    {
      "cell_type": "markdown",
      "metadata": {
        "id": "CClsRBL9ipki",
        "colab_type": "text"
      },
      "source": [
        "**Introspecção**\n",
        "\n",
        "É a capacidade do Python identificar estados de seus objetos\n",
        "\n",
        "type() - Tipo do objeto.\n",
        "\n",
        "id() - identificador do objeto.\n",
        "\n",
        "len() - Tamanho do objeto.\n",
        "\n",
        "dir() - Lista de estrutura do objeto.\n",
        "\n",
        "help() - Doc String do objeto."
      ]
    },
    {
      "cell_type": "code",
      "metadata": {
        "id": "smOgj0h2isN_",
        "colab_type": "code",
        "colab": {}
      },
      "source": [
        ""
      ],
      "execution_count": null,
      "outputs": []
    },
    {
      "cell_type": "markdown",
      "metadata": {
        "id": "Q9Qs8V4yikYC",
        "colab_type": "text"
      },
      "source": [
        "**Formatando String**\n",
        "É a forma de melhorara apresentação das variáveis na string\n",
        "\n",
        "**Formatando String**\n",
        "(referencia https://pyformat.info/)\n",
        "\n",
        ":< alinhar a esquerda<br>\n",
        ":> alinhar a direita<br>\n",
        ":^ alinhar ao centro<br>\n",
        "<br>\n",
        "s = string<br>\n",
        "d = inteiros<br>\n",
        "f = float<br>\n",
        "\n",
        ":04d = adiciona 0 na frente<br>\n",
        ":+s  = adiciona + na frente, para negativo, colocar na frente da variável<br>\n",
        "print(f\"{-a:9.2f}\")<br>\n",
        "\"{:9.2f}\".format(-a)<br>\n",
        "<br>\n",
        ": numero de casas .<br>\n",
        "\n",
        "format<br>\n",
        "print(\"{:.2f}\".format(a))<br>\n",
        "'{1} {0}'.format('Um', 'Dois')<br>\n",
        "'{0} {0}'.format('Um', 'Dois')<br>\n",
        "\n",
        "f-string<br>\n",
        "a=15.656565656565<br>\n",
        "print(f\"{a:.2f}\")<br>\n"
      ]
    },
    {
      "cell_type": "code",
      "metadata": {
        "id": "m-z2fcJminKP",
        "colab_type": "code",
        "colab": {}
      },
      "source": [
        ""
      ],
      "execution_count": null,
      "outputs": []
    },
    {
      "cell_type": "markdown",
      "metadata": {
        "id": "wHeExIjxi0mJ",
        "colab_type": "text"
      },
      "source": [
        "**List Comprehension**<br><br>\n",
        "É uma forma de criar uma lista rápida.<br>\n",
        "Ela possui 3 partes:<br>\n",
        "Ação: O que se faz com a variável final<br>\n",
        "Itens interados: criando as variáveis para a Ação<br>\n",
        "Filtro: Filtro para selecionar e filtrar elementos<br>\n",
        "lista = [\\<ação> for \\<variavel> in \\<interados> if \\<filtro>] <br>\n",
        "lista = [x for x in range(100) if x%2 == 0] <br>*texto em itálico*"
      ]
    },
    {
      "cell_type": "code",
      "metadata": {
        "id": "KE2FT5JUkmpM",
        "colab_type": "code",
        "colab": {}
      },
      "source": [
        "Ação, intens interados, filtro\n",
        "lista = [x for x in range(100) if x == 10 or x == 50]"
      ],
      "execution_count": null,
      "outputs": []
    },
    {
      "cell_type": "markdown",
      "metadata": {
        "id": "is0fUdho4uEj",
        "colab_type": "text"
      },
      "source": [
        "Podemos usálo para criar listas de forma rápida e com menos linha\n",
        "\n",
        "\n",
        "\n"
      ]
    },
    {
      "cell_type": "code",
      "metadata": {
        "id": "KWtyR7q142NI",
        "colab_type": "code",
        "colab": {}
      },
      "source": [
        "# Lista\n",
        "lista = '''1;Raimundo;40;f;pacheco_k81@hotmail.com;033901987190\n",
        "4;Fátima;42;f;lspixarosa@terra.com.br;020995548294\n",
        "8;Alexandra;40;f;fabiohenriquedefreitas@yahoo.com.br;025966285345\n",
        "10;Abda Silva;46;f;leahlima@bol.com.br;047943128800\n",
        "11;Cirano;35;f;thevips@linuxmail.com;018974090493\n",
        "12;Bernardo;25;f;francielle_priscila@yahoo.com.br;054999521980\n",
        "13;Dieter;44;f;moni_kbrujit@hotmail.com;023970313438\n",
        "15;Leo;39;f;lookinha5@hotmail.com;033980865576\n",
        "16;Adelinda;28;f;igor_cocaina@hotmail.com;043933370593\n",
        "19;Julieta;26;f;athiagoc@hotmail.com;018970643315\n",
        "20;Dulcineia;44;f;fadinha_erika@hotmail.com;039992476161\n",
        "21;Jaime;26;f;ale_amor05@hotmail.com;046938039948\n",
        "22;Maira;32;f;danielageber@hotmail.com;016955944988\n",
        "26;Alexa;49;f;renattafdc@hotmail.com;051965170895\n",
        "27;Zyndal;20;f;aninha_breezy3vax@yahoo.com.br;036932485868\n",
        "28;Thales;36;f;junior.cuba@hotmail.com;017923394057\n",
        "30;Hermano;23;f;bebado.renato@yahoo.com.br;035996268229\n",
        "32;Murilo Nadia;17;f;williansbeck@hotmail.com;040951090205\n",
        "33;Marcilio;47;f;priscylla00@bol.com.br;044941208441\n",
        "37;Ernani;33;f;jean_0204@yahoo.com.br;046945440140\n",
        "40;Nina;48;f;kellen-layanne@hotmail.com;054965563746\n",
        "41;Talia;31;f;info@24fun.com;053963920267\n",
        "44;Joaquim;30;f;felina-sonia@hotmail.com;031925708731\n",
        "46;Cleopatra;27;f;lukas_natan@yahoo.com.br;036935366701\n",
        "47;Carolina;24;f;gunitcokda@gmail.com;052929880750\n",
        "48;Gioconda;47;f;danielasousa_dany@yahoo.com.br;027969275520\n",
        "49;Luis;31;f;primomaisnovo2008@gmail.com;047952308275\n",
        "55;Osias;43;f;rebekalips@gmail.com;055907929269'''\n",
        "\n",
        "\n"
      ],
      "execution_count": 53,
      "outputs": []
    },
    {
      "cell_type": "markdown",
      "metadata": {
        "id": "vrkmUnNpizVz",
        "colab_type": "text"
      },
      "source": [
        "Transposição Com O Método Zip\n"
      ]
    },
    {
      "cell_type": "code",
      "metadata": {
        "id": "Q2-z0PbKkhFg",
        "colab_type": "code",
        "colab": {}
      },
      "source": [
        "\n",
        "a = ['a','b','c','d']\n",
        "b = [0,1,2,3]\n",
        "lista_empacotada = list( zip(a,b) )\n",
        "print(lista_empacotada)\n",
        "des_a , des_b = zip(*lista_empacotada)\n",
        "print(des_a , des_b)\n",
        "\n",
        "dicionario = dict(lista_empacotada)\n",
        "print(dicionario)\n",
        "des_a , des_b = zip(*dicionario.items())\n",
        "print(des_a , des_b)"
      ],
      "execution_count": null,
      "outputs": []
    },
    {
      "cell_type": "markdown",
      "metadata": {
        "id": "f_y1qWsPi2BW",
        "colab_type": "text"
      },
      "source": [
        "Geradores e Generator Expression\n",
        "\n"
      ]
    },
    {
      "cell_type": "code",
      "metadata": {
        "id": "ev3SHrpxk1id",
        "colab_type": "code",
        "colab": {}
      },
      "source": [
        "\n",
        "def meu_range(num):\n",
        "    for i in range(num):\n",
        "        yield i\n",
        "\n",
        "contador = meu_range(10)\n"
      ],
      "execution_count": null,
      "outputs": []
    }
  ]
}